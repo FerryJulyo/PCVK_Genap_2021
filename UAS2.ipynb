{
  "nbformat": 4,
  "nbformat_minor": 0,
  "metadata": {
    "colab": {
      "name": "UAS2.ipynb",
      "provenance": [],
      "authorship_tag": "ABX9TyPA1U4JIO8fLDxzYpKdEGC+",
      "include_colab_link": true
    },
    "kernelspec": {
      "name": "python3",
      "display_name": "Python 3"
    },
    "language_info": {
      "name": "python"
    }
  },
  "cells": [
    {
      "cell_type": "markdown",
      "metadata": {
        "id": "view-in-github",
        "colab_type": "text"
      },
      "source": [
        "<a href=\"https://colab.research.google.com/github/FerryJulyo/PCVK_Genap_2021/blob/main/UAS2.ipynb\" target=\"_parent\"><img src=\"https://colab.research.google.com/assets/colab-badge.svg\" alt=\"Open In Colab\"/></a>"
      ]
    },
    {
      "cell_type": "code",
      "metadata": {
        "colab": {
          "base_uri": "https://localhost:8080/"
        },
        "id": "1BdrKHhNm7Ot",
        "outputId": "27e7d48a-86f8-4ac6-fc3e-559d92032708"
      },
      "source": [
        "from google.colab import drive\n",
        "\n",
        "# Acessing My Google Drive\n",
        "drive.mount('/content/drive')"
      ],
      "execution_count": null,
      "outputs": [
        {
          "output_type": "stream",
          "text": [
            "Mounted at /content/drive\n"
          ],
          "name": "stdout"
        }
      ]
    },
    {
      "cell_type": "code",
      "metadata": {
        "id": "B0q5FFwCTmrq"
      },
      "source": [
        "import numpy as np\n",
        "import cv2 \n",
        "from google.colab.patches import cv2_imshow"
      ],
      "execution_count": null,
      "outputs": []
    },
    {
      "cell_type": "code",
      "metadata": {
        "colab": {
          "base_uri": "https://localhost:8080/",
          "height": 417
        },
        "id": "WL03qejYgaAT",
        "outputId": "48a05ed9-d8ae-4962-c865-b583058d4e58"
      },
      "source": [
        "# Load the image :\n",
        "img = cv2.imread('/content/drive/MyDrive/PCVK_MM/Circle_0b20242a-2a89-11ea-8123-8363a7ec19e6.png')\n",
        "cv2_imshow(img)\n",
        "\n",
        "# Convert image to grayscale\n",
        "imgGrey = cv2.cvtColor(img, cv2.COLOR_BGR2GRAY)\n",
        "\n",
        "# Apply gaussian blur with size 5x5 (To reduce noise in next process)\n",
        "blurred = cv2.GaussianBlur(imgGrey, (5,5), 0)\n",
        "\n",
        "\n",
        "cv2_imshow(blurred)"
      ],
      "execution_count": null,
      "outputs": [
        {
          "output_type": "display_data",
          "data": {
            "image/png": "[encoded data removed]",
            "text/plain": [
              "<PIL.Image.Image image mode=RGB size=200x200 at 0x7FC5904C5290>"
            ]
          },
          "metadata": {
            "tags": []
          }
        },
        {
          "output_type": "display_data",
          "data": {
            "image/png": "[encoded data removed]",
            "text/plain": [
              "<PIL.Image.Image image mode=L size=200x200 at 0x7FC598B49990>"
            ]
          },
          "metadata": {
            "tags": []
          }
        }
      ]
    },
    {
      "cell_type": "code",
      "metadata": {
        "colab": {
          "base_uri": "https://localhost:8080/",
          "height": 217
        },
        "id": "mkiuldJDg2En",
        "outputId": "4a149e08-26a0-43bb-ebef-c41cf430aff4"
      },
      "source": [
        "#Canny method is to detect the edge of in a picture\n",
        "edged = cv2.Canny(blurred, 30, 150)\n",
        "cv2_imshow(edged)"
      ],
      "execution_count": null,
      "outputs": [
        {
          "output_type": "display_data",
          "data": {
            "image/png": "[encoded data removed]",
            "text/plain": [
              "<PIL.Image.Image image mode=L size=200x200 at 0x7FC598B496D0>"
            ]
          },
          "metadata": {
            "tags": []
          }
        }
      ]
    },
    {
      "cell_type": "code",
      "metadata": {
        "colab": {
          "base_uri": "https://localhost:8080/",
          "height": 217
        },
        "id": "nxyg98mAg8iX",
        "outputId": "0cfd0a61-6ea8-4dcc-9a18-131d0dda8603"
      },
      "source": [
        "#Then, we can find contour by using canny edge detection and draw it in original image\n",
        "(cnts, _) = cv2.findContours(edged.copy(), cv2.RETR_EXTERNAL, cv2.CHAIN_APPROX_SIMPLE)\n",
        "draw = cv2.drawContours(img, cnts, -1, (0, 255, 0), 2)\n",
        "cv2_imshow(draw)"
      ],
      "execution_count": null,
      "outputs": [
        {
          "output_type": "display_data",
          "data": {
            "image/png": "[encoded data removed]",
            "text/plain": [
              "<PIL.Image.Image image mode=RGB size=200x200 at 0x7FC5904C5910>"
            ]
          },
          "metadata": {
            "tags": []
          }
        }
      ]
    },
    {
      "cell_type": "code",
      "metadata": {
        "colab": {
          "base_uri": "https://localhost:8080/",
          "height": 234
        },
        "id": "YGwg-k2XhCxI",
        "outputId": "06d81073-35f1-4048-d3a9-43e40b29a2bd"
      },
      "source": [
        "#initialise the shape count\n",
        "triangle = 0\n",
        "square = 0\n",
        "rectangle = 0\n",
        "pentagon = 0\n",
        "circle = 0\n",
        "\n",
        "for cnts in cnts:\n",
        "    approx = cv2.approxPolyDP(cnts, 0.02* cv2.arcLength(cnts, True), True)\n",
        "    draw2 = cv2.drawContours(img.copy(), cnts, -1, (255,255,255), 2)\n",
        "    #cv2_imshow(draw2)\n",
        "    \n",
        "    x = approx.ravel()[0] #just x-coordinate to put text later\n",
        "    y = approx.ravel()[1] - 5 #just y-coordinate to put text later\n",
        "    if len(approx) == 3: #3 vertices\n",
        "        triangle += 1 #counting triangle\n",
        "        # put text near the shape:\n",
        "        # cv2.putText(image, text, coordinates to start texting, font, font-size, color)\n",
        "        cv2.putText(img, \"Triangle {}\".format(triangle), (x, y), cv2.FONT_HERSHEY_COMPLEX, 0.5, (255,255,255))\n",
        "        \n",
        "    elif len(approx) == 4:\n",
        "\n",
        "        x1 ,y1, w, h = cv2.boundingRect(approx)\n",
        "        aspectRatio = float(w)/h\n",
        "        if aspectRatio >= 0.95 and aspectRatio <= 1.05: # ratio of w and h\n",
        "            square += 1 #counting square\n",
        "            print(\"square {} has {} Width and {} height\".format(square, w, h)) #show w and h\n",
        "            # put text near the shape:\n",
        "            # cv2.putText(image, text, coordinates to start texting, font, font-size, color)\n",
        "            cv2.putText(img, \"Square {}\".format(square), (x, y), cv2.FONT_HERSHEY_COMPLEX, 0.5, (255,255,255))\n",
        "          \n",
        "        else:\n",
        "            rectangle += 1 #counting rectangle\n",
        "            print(\"rectangle {} has {} Width and {} height\".format(rectangle, w, h)) #show w and h\n",
        "            # put text near the shape:\n",
        "            # cv2.putText(image, text, coordinates to start texting, font, font-size, color)\n",
        "            cv2.putText(img, \"Rectangle {}\".format(rectangle), (x - 20, y), cv2.FONT_HERSHEY_COMPLEX, 0.5, (255,255,255))\n",
        "   \n",
        "    elif len(approx) == 5: #5 vertices\n",
        "        pentagon += 1 #counting pentagon\n",
        "        # put text near the shape:\n",
        "        # cv2.putText(image, text, coordinates to start texting, font, font-size, color)\n",
        "        cv2.putText(img, \"Pentagon {}\".format(pentagon), (x, y), cv2.FONT_HERSHEY_COMPLEX, 0.5, (255,255,255))\n",
        "        \n",
        "    elif len(approx) == 6:  #special case for this image \n",
        "        triangle += 1 \n",
        "        # put text near the shape:\n",
        "        # cv2.putText(image, text, coordinates to start texting, font, font-size, color)\n",
        "        cv2.putText(img, \"Triangle {}\".format(triangle), (x - 20, y), cv2.FONT_HERSHEY_COMPLEX, 0.5, (255,255,255))\n",
        "        \n",
        "    else: #others vertices will consider as circle\n",
        "        circle +=1 #counting circle\n",
        "        # put text near the shape:\n",
        "        # cv2.putText(image, text, coordinates to start texting, font, font-size, color)\n",
        "        cv2.putText(img, \"Circle {}\".format(circle), (x - 20, y), cv2.FONT_HERSHEY_COMPLEX, 0.5, (255,255,255))\n",
        "\n",
        "total = triangle + square + rectangle + pentagon + circle  #sum up all counted shape \n",
        "\n",
        "cv2_imshow(img)\n",
        "print(\"There are {} Triangle, {} Square, {} Rectangle, {} Pentagon, {} circle in this image with total of {} shape\".format(triangle,square,rectangle,pentagon,circle,total))"
      ],
      "execution_count": null,
      "outputs": [
        {
          "output_type": "display_data",
          "data": {
            "image/png": "[encoded data removed]",
            "text/plain": [
              "<PIL.Image.Image image mode=RGB size=200x200 at 0x7FC592AF9250>"
            ]
          },
          "metadata": {
            "tags": []
          }
        },
        {
          "output_type": "stream",
          "text": [
            "There are 0 Triangle, 0 Square, 0 Rectangle, 0 Pentagon, 1 circle in this image with total of 1 shape\n"
          ],
          "name": "stdout"
        }
      ]
    }
  ]
}