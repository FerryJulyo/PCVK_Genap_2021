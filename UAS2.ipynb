{
  "nbformat": 4,
  "nbformat_minor": 0,
  "metadata": {
    "colab": {
      "name": "UAS2.ipynb",
      "provenance": [],
      "authorship_tag": "ABX9TyMfZH5AjR3OZlrVdl5XUZbI",
      "include_colab_link": true
    },
    "kernelspec": {
      "name": "python3",
      "display_name": "Python 3"
    },
    "language_info": {
      "name": "python"
    }
  },
  "cells": [
    {
      "cell_type": "markdown",
      "metadata": {
        "id": "view-in-github",
        "colab_type": "text"
      },
      "source": [
        "<a href=\"https://colab.research.google.com/github/FerryJulyo/PCVK_Genap_2021/blob/main/UAS2.ipynb\" target=\"_parent\"><img src=\"https://colab.research.google.com/assets/colab-badge.svg\" alt=\"Open In Colab\"/></a>"
      ]
    },
    {
      "cell_type": "code",
      "metadata": {
        "colab": {
          "base_uri": "https://localhost:8080/"
        },
        "id": "1BdrKHhNm7Ot",
        "outputId": "a878072f-89c3-4791-96ea-fd1132f8ba39"
      },
      "source": [
        "from google.colab import drive\n",
        "\n",
        "# Acessing My Google Drive\n",
        "drive.mount('/content/drive')"
      ],
      "execution_count": 1,
      "outputs": [
        {
          "output_type": "stream",
          "text": [
            "Mounted at /content/drive\n"
          ],
          "name": "stdout"
        }
      ]
    },
    {
      "cell_type": "code",
      "metadata": {
        "id": "B0q5FFwCTmrq"
      },
      "source": [
        "import numpy as np\n",
        "import cv2 \n",
        "from google.colab.patches import cv2_imshow"
      ],
      "execution_count": 2,
      "outputs": []
    },
    {
      "cell_type": "code",
      "metadata": {
        "colab": {
          "base_uri": "https://localhost:8080/",
          "height": 417
        },
        "id": "WL03qejYgaAT",
        "outputId": "def4b0db-61e0-4cdd-a022-272e74aa74a3"
      },
      "source": [
        "# Mengambil image :\n",
        "img = cv2.imread('/content/drive/MyDrive/PCVK_MM/Circle_0b20242a-2a89-11ea-8123-8363a7ec19e6.png')\n",
        "cv2_imshow(img)\n",
        "\n",
        "# Mengconvert image ke Grayscale\n",
        "imgGrey = cv2.cvtColor(img, cv2.COLOR_BGR2GRAY)\n",
        "\n",
        "# Menambahkan Gaussian Blur(5,5)\n",
        "blurred = cv2.GaussianBlur(imgGrey, (5,5), 0)\n",
        "\n",
        "\n",
        "cv2_imshow(blurred)"
      ],
      "execution_count": 20,
      "outputs": [
        {
          "output_type": "display_data",
          "data": {
            "image/png": "[encoded data removed]",
            "text/plain": [
              "<PIL.Image.Image image mode=RGB size=200x200 at 0x7FF7EED18E10>"
            ]
          },
          "metadata": {
            "tags": []
          }
        },
        {
          "output_type": "display_data",
          "data": {
            "image/png": "[encoded data removed]",
            "text/plain": [
              "<PIL.Image.Image image mode=L size=200x200 at 0x7FF7EED18ED0>"
            ]
          },
          "metadata": {
            "tags": []
          }
        }
      ]
    },
    {
      "cell_type": "code",
      "metadata": {
        "colab": {
          "base_uri": "https://localhost:8080/",
          "height": 217
        },
        "id": "mkiuldJDg2En",
        "outputId": "183c40ac-c547-4811-a7e6-f2ec4a36d1f2"
      },
      "source": [
        "# Menentukan garis tepi dengan Canny Edge\n",
        "edged = cv2.Canny(blurred, 30, 150)\n",
        "cv2_imshow(edged)"
      ],
      "execution_count": 21,
      "outputs": [
        {
          "output_type": "display_data",
          "data": {
            "image/png": "[encoded data removed]",
            "text/plain": [
              "<PIL.Image.Image image mode=L size=200x200 at 0x7FF7EED18910>"
            ]
          },
          "metadata": {
            "tags": []
          }
        }
      ]
    },
    {
      "cell_type": "code",
      "metadata": {
        "colab": {
          "base_uri": "https://localhost:8080/",
          "height": 217
        },
        "id": "nxyg98mAg8iX",
        "outputId": "8f6a6c73-f94b-47ac-8435-d0e1d796750c"
      },
      "source": [
        "# Mencari Kontur dari hasil canny edge dan mengaplikasikannya ke image asli\n",
        "(cnts, _) = cv2.findContours(edged.copy(), cv2.RETR_EXTERNAL, cv2.CHAIN_APPROX_SIMPLE)\n",
        "draw = cv2.drawContours(img, cnts, -1, (0, 255, 0), 2)\n",
        "cv2_imshow(draw)"
      ],
      "execution_count": 25,
      "outputs": [
        {
          "output_type": "display_data",
          "data": {
            "image/png": "[encoded data removed]",
            "text/plain": [
              "<PIL.Image.Image image mode=RGB size=200x200 at 0x7FF7EED188D0>"
            ]
          },
          "metadata": {
            "tags": []
          }
        }
      ]
    },
    {
      "cell_type": "code",
      "metadata": {
        "colab": {
          "base_uri": "https://localhost:8080/",
          "height": 234
        },
        "id": "YGwg-k2XhCxI",
        "outputId": "06d81073-35f1-4048-d3a9-43e40b29a2bd"
      },
      "source": [
        "#initialise the shape count\n",
        "triangle = 0\n",
        "square = 0\n",
        "rectangle = 0\n",
        "pentagon = 0\n",
        "circle = 0\n",
        "\n",
        "for cnts in cnts:\n",
        "    approx = cv2.approxPolyDP(cnts, 0.02* cv2.arcLength(cnts, True), True)\n",
        "    draw2 = cv2.drawContours(img.copy(), cnts, -1, (255,255,255), 2)\n",
        "    #cv2_imshow(draw2)\n",
        "    \n",
        "    x = approx.ravel()[0] #just x-coordinate to put text later\n",
        "    y = approx.ravel()[1] - 5 #just y-coordinate to put text later\n",
        "    if len(approx) == 3: # 3 sudut\n",
        "        triangle += 1 # menghitung jumlah segitiga\n",
        "        # put text near the shape:\n",
        "        # cv2.putText(image, text, coordinates to start texting, font, font-size, color)\n",
        "        cv2.putText(img, \"Triangle {}\".format(triangle), (x, y), cv2.FONT_HERSHEY_COMPLEX, 0.5, (255,255,255))\n",
        "        \n",
        "    elif len(approx) == 4:\n",
        "\n",
        "        x1 ,y1, w, h = cv2.boundingRect(approx)\n",
        "        aspectRatio = float(w)/h\n",
        "        if aspectRatio >= 0.95 and aspectRatio <= 1.05: # ratio of w and h\n",
        "            square += 1 #counting square\n",
        "            print(\"square {} has {} Width and {} height\".format(square, w, h)) #show w and h\n",
        "            # put text near the shape:\n",
        "            # cv2.putText(image, text, coordinates to start texting, font, font-size, color)\n",
        "            cv2.putText(img, \"Square {}\".format(square), (x, y), cv2.FONT_HERSHEY_COMPLEX, 0.5, (255,255,255))\n",
        "          \n",
        "        else:\n",
        "            rectangle += 1 #counting rectangle\n",
        "            print(\"rectangle {} has {} Width and {} height\".format(rectangle, w, h)) #show w and h\n",
        "            # put text near the shape:\n",
        "            # cv2.putText(image, text, coordinates to start texting, font, font-size, color)\n",
        "            cv2.putText(img, \"Rectangle {}\".format(rectangle), (x - 20, y), cv2.FONT_HERSHEY_COMPLEX, 0.5, (255,255,255))\n",
        "   \n",
        "    elif len(approx) == 5: #5 vertices\n",
        "        pentagon += 1 #counting pentagon\n",
        "        # put text near the shape:\n",
        "        # cv2.putText(image, text, coordinates to start texting, font, font-size, color)\n",
        "        cv2.putText(img, \"Pentagon {}\".format(pentagon), (x, y), cv2.FONT_HERSHEY_COMPLEX, 0.5, (255,255,255))\n",
        "        \n",
        "    elif len(approx) == 6:  #special case for this image \n",
        "        triangle += 1 \n",
        "        # put text near the shape:\n",
        "        # cv2.putText(image, text, coordinates to start texting, font, font-size, color)\n",
        "        cv2.putText(img, \"Triangle {}\".format(triangle), (x - 20, y), cv2.FONT_HERSHEY_COMPLEX, 0.5, (255,255,255))\n",
        "        \n",
        "    else: #others vertices will consider as circle\n",
        "        circle +=1 #counting circle\n",
        "        # put text near the shape:\n",
        "        # cv2.putText(image, text, coordinates to start texting, font, font-size, color)\n",
        "        cv2.putText(img, \"Circle {}\".format(circle), (x - 20, y), cv2.FONT_HERSHEY_COMPLEX, 0.5, (255,255,255))\n",
        "\n",
        "total = triangle + square + rectangle + pentagon + circle  #sum up all counted shape \n",
        "\n",
        "cv2_imshow(img)\n",
        "print(\"There are {} Triangle, {} Square, {} Rectangle, {} Pentagon, {} circle in this image with total of {} shape\".format(triangle,square,rectangle,pentagon,circle,total))"
      ],
      "execution_count": null,
      "outputs": [
        {
          "output_type": "display_data",
          "data": {
            "image/png": "[encoded data removed]",
            "text/plain": [
              "<PIL.Image.Image image mode=RGB size=200x200 at 0x7FC592AF9250>"
            ]
          },
          "metadata": {
            "tags": []
          }
        },
        {
          "output_type": "stream",
          "text": [
            "There are 0 Triangle, 0 Square, 0 Rectangle, 0 Pentagon, 1 circle in this image with total of 1 shape\n"
          ],
          "name": "stdout"
        }
      ]
    },
    {
      "cell_type": "code",
      "metadata": {
        "id": "PsGgIvFHcffO",
        "outputId": "cd4c27fa-4f3f-4a1e-d8b6-529e98278cba",
        "colab": {
          "base_uri": "https://localhost:8080/",
          "height": 234
        }
      },
      "source": [
        "# Inisiasi bangun bentuk yang ada\n",
        "segitiga = 0\n",
        "kotak = 0\n",
        "persegi = 0\n",
        "segiLima = 0\n",
        "segiEnam = 0\n",
        "segiTujuh = 0\n",
        "bulat = 0\n",
        "\n",
        "for cnts in cnts:\n",
        "    approx = cv2.approxPolyDP(cnts, 0.02* cv2.arcLength(cnts, True), True)\n",
        "    draw2 = cv2.drawContours(img.copy(), cnts, -1, (255,255,255), 2)\n",
        "    \n",
        "    x = approx.ravel()[0] # kordinat x untuk menempatkan text\n",
        "    y = approx.ravel()[1] - 5 # kordinat y untuk menempatkan text\n",
        "    if len(approx) == 3: # 3 sudut(Segitiga)\n",
        "        segitiga += 1 # menghitung jumlah segitiga\n",
        "        # Masukkan text disekitar bangun bentuk\n",
        "        # cv2.putText(source, text, kordinat text ditulis, jenis font, ukuran font, warna)\n",
        "        cv2.putText(img, \"Segitiga {}\".format(segitiga), (x, y), cv2.FONT_HERSHEY_COMPLEX, 0.5, (255,255,255))\n",
        "        \n",
        "    elif len(approx) == 4:\n",
        "\n",
        "        x1 ,y1, w, h = cv2.boundingRect(approx)\n",
        "        aspectRatio = float(w)/h\n",
        "        if aspectRatio >= 0.95 and aspectRatio <= 1.05: # ratio tinggi dan lebar\n",
        "            kotak += 1 # menghitung jumlah kotak\n",
        "            print(\"Kotak {} mempunyai {} Lebar dan {} Tinggi\".format(kotak, w, h)) # tampilkan tinggi dan lebar\n",
        "            # Masukkan text disekitar bangun bentuk\n",
        "            # cv2.putText(source, text, kordinat text ditulis, jenis font, ukuran font, warna)\n",
        "            cv2.putText(img, \"Kotak {}\".format(kotak), (x, y), cv2.FONT_HERSHEY_COMPLEX, 0.5, (255,255,255))\n",
        "          \n",
        "        else:\n",
        "            persegi += 1 # menghitung jumlah persegi\n",
        "            print(\"Persegi {} mempunyai {} Lebar dan {} Tinggi\".format(persegi, w, h)) # tampilkan tinggi dan lebar\n",
        "            # Masukkan text disekitar bangun bentuk\n",
        "            # cv2.putText(source, text, kordinat text ditulis, jenis font, ukuran font, warna)\n",
        "            cv2.putText(img, \"Persegi {}\".format(persegi), (x - 20, y), cv2.FONT_HERSHEY_COMPLEX, 0.5, (255,255,255))\n",
        "   \n",
        "    elif len(approx) == 5: #5 sudut(Segi lima)\n",
        "        segiLima += 1 # menghitung jumlah segiLima\n",
        "        # Masukkan text disekitar bangun bentuk\n",
        "        # cv2.putText(source, text, kordinat text ditulis, jenis font, ukuran font, warna)\n",
        "        cv2.putText(img, \"Segi Lima {}\".format(segiLima), (x, y), cv2.FONT_HERSHEY_COMPLEX, 0.5, (255,255,255))\n",
        "        \n",
        "    elif len(approx) == 6:  # 6 sudut(Segi enam)\n",
        "        segiEnam += 1 # Hitung jumlah Segi enam\n",
        "        # Masukkan text disekitar bangun bentuk\n",
        "        # cv2.putText(source, text, kordinat text ditulis, jenis font, ukuran font, warna)\n",
        "        cv2.putText(img, \"Segi Enam {}\".format(segiEnam), (x - 20, y), cv2.FONT_HERSHEY_COMPLEX, 0.5, (255,255,255))\n",
        "\n",
        "    elif len(approx) == 7:  # 7 sudut(Segi tujuh)\n",
        "        segiTujuh += 1 # Hitung jumlah segi tujuh\n",
        "        # Masukkan text disekitar bangun bentuk\n",
        "        # cv2.putText(source, text, kordinat text ditulis, jenis font, ukuran font, warna)\n",
        "        cv2.putText(img, \"Segi Tujuh {}\".format(segiTujuh), (x - 20, y), cv2.FONT_HERSHEY_COMPLEX, 0.5, (255,255,255))\n",
        "        \n",
        "    else: # Lainnya akan dianggap sebagai bundar\n",
        "        bulat +=1 # menghitung jumlah bundar\n",
        "        # Masukkan text disekitar bangun bentuk\n",
        "        # cv2.putText(source, text, kordinat text ditulis, jenis font, ukuran font, warna)\n",
        "        cv2.putText(img, \"Bundar {}\".format(bulat), (x - 20, y), cv2.FONT_HERSHEY_COMPLEX, 0.5, (255,255,255))\n",
        "\n",
        "total = segitiga + kotak + persegi + segiLima + segiEnam + segiTujuh + bulat  # hitung seluruh jumlah bangun bentuk\n",
        "\n",
        "cv2_imshow(img)\n",
        "print(\"Jumlah bangun yang ada {} segitiga, {} kotak, {} persegi, {} segi lima, {} segi enam, {} segi tujuh, {} bundar pada gambar ini dengan total {} bangun bentuk\".format(segitiga,kotak,persegi,segiLima,segiEnam,segiTujuh,bulat,total))"
      ],
      "execution_count": 26,
      "outputs": [
        {
          "output_type": "display_data",
          "data": {
            "image/png": "[encoded data removed]",
            "text/plain": [
              "<PIL.Image.Image image mode=RGB size=200x200 at 0x7FF7EECD2A50>"
            ]
          },
          "metadata": {
            "tags": []
          }
        },
        {
          "output_type": "stream",
          "text": [
            "Jumlah bangun yang ada 0 segitiga, 0 kotak, 0 persegi, 0 segi lima, 0 segi enam, 0 segi tujuh, 1 bundar pada gambar ini dengan total 1 bangun bentuk\n"
          ],
          "name": "stdout"
        }
      ]
    }
  ]
}