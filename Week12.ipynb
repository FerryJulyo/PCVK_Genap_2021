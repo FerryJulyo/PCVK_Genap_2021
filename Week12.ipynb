{
  "nbformat": 4,
  "nbformat_minor": 0,
  "metadata": {
    "colab": {
      "name": "Week12.ipynb",
      "provenance": [],
      "authorship_tag": "ABX9TyPzxBmoEH+qQ91dzYT52LWA",
      "include_colab_link": true
    },
    "kernelspec": {
      "name": "python3",
      "display_name": "Python 3"
    },
    "language_info": {
      "name": "python"
    }
  },
  "cells": [
    {
      "cell_type": "markdown",
      "metadata": {
        "id": "view-in-github",
        "colab_type": "text"
      },
      "source": [
        "<a href=\"https://colab.research.google.com/github/FerryJulyo/PCVK_Genap_2021/blob/main/Week12.ipynb\" target=\"_parent\"><img src=\"https://colab.research.google.com/assets/colab-badge.svg\" alt=\"Open In Colab\"/></a>"
      ]
    },
    {
      "cell_type": "code",
      "metadata": {
        "id": "iY4SvuyuDnXD"
      },
      "source": [
        "import cv2 as cv\n",
        "import numpy as np\n",
        "import matplotlib.pyplot as plt"
      ],
      "execution_count": null,
      "outputs": []
    },
    {
      "cell_type": "code",
      "metadata": {
        "id": "BOWPzxOADshm"
      },
      "source": [
        "from google.colab import drive\n",
        "\n",
        "# Acessing My Google Drive\n",
        "drive.mount('/content/drive')"
      ],
      "execution_count": null,
      "outputs": []
    },
    {
      "cell_type": "code",
      "metadata": {
        "id": "dOJMyX2rDw2_"
      },
      "source": [
        "cascade_wajah = cv.CascadeClassifier('/content/drive/MyDrive/Image Processing/haarcascades/haarcascade_frontalface_alt.xml') \n",
        "\n",
        "jokowi = cv.imread('/content/drive/MyDrive/Image Processing/facedet/jokowi.jpg')\n",
        "jokowi_ori = cv.imread('/content/drive/MyDrive/Image Processing/facedet/jokowi.jpg')\n",
        "\n",
        "kartini = cv.imread('/content/drive/MyDrive/Image Processing/facedet/kartini.jpg')\n",
        "kartini_ori = cv.imread('/content/drive/MyDrive/Image Processing/facedet/kartini.jpg')\n",
        "\n",
        "kucing = cv.imread('/content/drive/MyDrive/Image Processing/facedet/kucing.jpg')\n",
        "kucing_ori = cv.imread('/content/drive/MyDrive/Image Processing/facedet/kucing.jpg')\n",
        "kucing_gray = cv.cvtColor(kucing, cv.COLOR_BGR2GRAY)\n",
        "kucing_ori_gray = cv.cvtColor(kucing_ori, cv.COLOR_BGR2GRAY)\n",
        "\n",
        "mask_gray = cv.imread('/content/drive/MyDrive/Image Processing/facedet/mask.png',0)\n",
        "mask_ori_gray = cv.imread('/content/drive/MyDrive/Image Processing/facedet/mask.png',0)\n",
        "\n",
        "\n",
        "mjordan_gray = cv.imread('/content/drive/MyDrive/Image Processing/facedet/mjordan.jpg',0)\n",
        "mjordan_ori_gray = cv.imread('/content/drive/MyDrive/Image Processing/facedet/mjordan.jpg',0)\n",
        "\n",
        "solvayconf_gray = cv.imread('/content/drive/MyDrive/Image Processing/facedet/solvayconf.jpg',0)\n",
        "solvayconf_ori_gray = cv.imread('/content/drive/MyDrive/Image Processing/facedet/solvayconf.jpg',0)\n",
        "\n",
        "roi_wajah = cascade_wajah.detectMultiScale(jokowi)\n",
        "for (x,y,w,h) in roi_wajah: \n",
        "  cv.rectangle(jokowi,(x,y),(x+w,y+h),(0,255,255),3) \n",
        "\n",
        "roi_wajah = cascade_wajah.detectMultiScale(kartini)\n",
        "for (x,y,w,h) in roi_wajah: \n",
        "  cv.rectangle(kartini,(x,y),(x+w,y+h),(0,255,255),3) \n",
        "\n",
        "roi_wajah = cascade_wajah.detectMultiScale(kucing)\n",
        "for (x,y,w,h) in roi_wajah: \n",
        "  cv.rectangle(kucing,(x,y),(x+w,y+h),(0,255,255),3)\n",
        "\n",
        "roi_wajah = cascade_wajah.detectMultiScale(mask_gray)\n",
        "for (x,y,w,h) in roi_wajah: \n",
        "  cv.rectangle(mask_gray,(x,y),(x+w,y+h),(255,255,255),3)\n",
        "\n",
        "roi_wajah = cascade_wajah.detectMultiScale(mjordan_gray)\n",
        "for (x,y,w,h) in roi_wajah: \n",
        "  cv.rectangle(mjordan_gray,(x,y),(x+w,y+h),(255,255,255),3)\n",
        "\n",
        "roi_wajah = cascade_wajah.detectMultiScale(solvayconf_gray)\n",
        "for (x,y,w,h) in roi_wajah: \n",
        "  cv.rectangle(solvayconf_gray,(x,y),(x+w,y+h),(255,255,255),3)        \n",
        "\n",
        "# Plot outputs\n",
        "f, axarr = plt. subplots(4,2,figsize=(15,15))\n",
        "plt.subplot(421),plt.imshow(cv.cvtColor(jokowi_ori, cv.COLOR_BGR2RGB))\n",
        "plt.subplot(422),plt.imshow(cv.cvtColor(jokowi, cv.COLOR_BGR2RGB))\n",
        "plt.subplot(423),plt.imshow(cv.cvtColor(kartini_ori, cv.COLOR_BGR2RGB))\n",
        "plt.subplot(424),plt.imshow(cv.cvtColor(kartini, cv.COLOR_BGR2RGB))\n",
        "plt.subplot(425),plt.imshow(kucing_gray, cmap='gray')\n",
        "plt.subplot(426),plt.imshow(kucing_ori_gray, cmap='gray')\n",
        "plt.subplot(427),plt.imshow(mask_ori_gray, cmap='gray')\n",
        "plt.subplot(428),plt.imshow(mask_gray, cmap='gray')\n",
        "plt.show()\n",
        "\n",
        "f, axarr = plt. subplots(2,2,figsize=(15,10))\n",
        "plt.subplot(221),plt.imshow(mjordan_ori_gray, cmap='gray')\n",
        "plt.subplot(222),plt.imshow(mjordan_gray, cmap='gray')\n",
        "plt.subplot(223),plt.imshow(solvayconf_ori_gray, cmap='gray')\n",
        "plt.subplot(224),plt.imshow(solvayconf_gray, cmap='gray')\n",
        "plt.show()"
      ],
      "execution_count": null,
      "outputs": []
    },
    {
      "cell_type": "code",
      "metadata": {
        "id": "3Vemsj2gD0Pq"
      },
      "source": [
        "cascade_wajah = cv.CascadeClassifier('/content/drive/MyDrive/Image Processing/haarcascades/haarcascade_frontalcatface_extended.xml') \n",
        "\n",
        "kucing = cv.imread('/content/drive/MyDrive/Image Processing/facedet/kucing.jpg')\n",
        "kucing_ori = cv.imread('/content/drive/MyDrive/Image Processing/facedet/kucing.jpg')\n",
        "kucing_gray = cv.cvtColor(kucing, cv.COLOR_BGR2GRAY)\n",
        "kucing_ori_gray = cv.cvtColor(kucing_ori, cv.COLOR_BGR2GRAY)\n",
        "\n",
        "roi_wajah = cascade_wajah.detectMultiScale(kucing_gray)\n",
        "for (x,y,w,h) in roi_wajah: \n",
        "  cv.rectangle(kucing_gray,(x,y),(x+w,y+h),(0,0,255),3)\n",
        "\n",
        "# Plot outputs\n",
        "f, axarr = plt. subplots(1,2,figsize=(15,15))\n",
        "plt.subplot(121),plt.imshow(kucing_ori_gray, cmap='gray')\n",
        "plt.subplot(122),plt.imshow(kucing_gray, cmap='gray')\n",
        "plt.show()"
      ],
      "execution_count": null,
      "outputs": []
    },
    {
      "cell_type": "code",
      "metadata": {
        "id": "o7u359D1D2nd"
      },
      "source": [
        "cascade_wajah = cv.CascadeClassifier('/content/drive/MyDrive/Image Processing/haarcascades/haarcascade_lefteye_2splits.xml') \n",
        "\n",
        "jokowi = cv.imread('/content/drive/MyDrive/Image Processing/facedet/jokowi.jpg')\n",
        "jokowi_ori = cv.imread('/content/drive/MyDrive/Image Processing/facedet/jokowi.jpg')\n",
        "jokowi_gray = cv.cvtColor(jokowi, cv.COLOR_BGR2GRAY)\n",
        "jokowi_ori_gray = cv.cvtColor(jokowi_ori, cv.COLOR_BGR2GRAY)\n",
        "\n",
        "roi_wajah = cascade_wajah.detectMultiScale(jokowi_gray)\n",
        "for (x,y,w,h) in roi_wajah: \n",
        "  cv.rectangle(jokowi_gray,(x,y),(x+w,y+h),(255,255,255),3)\n",
        "\n",
        "# Plot outputs\n",
        "f, axarr = plt. subplots(1,2,figsize=(15,15))\n",
        "plt.subplot(121),plt.imshow(jokowi_ori_gray, cmap='gray')\n",
        "plt.subplot(122),plt.imshow(jokowi_gray, cmap='gray')\n",
        "plt.show()"
      ],
      "execution_count": null,
      "outputs": []
    },
    {
      "cell_type": "code",
      "metadata": {
        "id": "E-wNdo4AD4_y"
      },
      "source": [
        "image = cv.imread('/content/drive/MyDrive/Image Processing/facedet/mjordan.jpg') # reads the image\n",
        "image = cv.cvtColor(image, cv.COLOR_BGR2GRAY) # convert to GRAY\n",
        "figure_size = 9 # the dimension of the x and y axis of the kernal.\n",
        "\n",
        "new_image = cv.medianBlur(image, figure_size)\n",
        "f, axarr = plt. subplots(1,2,figsize=(15,15))\n",
        "plt.subplot(121), plt.imshow(image, cmap='gray'),plt.title('Original')\n",
        "plt.subplot(122), plt.imshow(new_image, cmap='gray'),plt.title('Median Filter')\n",
        "plt.show()"
      ],
      "execution_count": null,
      "outputs": []
    }
  ]
}